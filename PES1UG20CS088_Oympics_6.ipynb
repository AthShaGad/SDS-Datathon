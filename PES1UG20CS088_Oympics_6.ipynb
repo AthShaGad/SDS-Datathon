{
 "cells": [
  {
   "cell_type": "code",
   "execution_count": 177,
   "id": "cd90c69e-7c9c-4279-be0f-62dab639eab7",
   "metadata": {},
   "outputs": [],
   "source": [
    "#NAME: Atharva S Gadad SEC: B SRN: PES1UG20CS088\n",
    "#Importing required libraries\n",
    "import pandas as pd\n",
    "import numpy as np\n",
    "import matplotlib.pyplot as plt\n",
    "from scipy import stats\n",
    "#from statsmodels.stats import weightstats as stests"
   ]
  },
  {
   "cell_type": "code",
   "execution_count": 178,
   "id": "4a390413-8782-47bd-88ed-fe92ae71fda6",
   "metadata": {},
   "outputs": [],
   "source": [
    "#Importing the csv file and creating a datafram\n",
    "df=pd.read_csv(\"6.csv\")"
   ]
  },
  {
   "cell_type": "code",
   "execution_count": 179,
   "id": "e3cd361d-7064-4af0-bac6-b5560f82990e",
   "metadata": {
    "tags": []
   },
   "outputs": [
    {
     "data": {
      "text/html": [
       "<div>\n",
       "<style scoped>\n",
       "    .dataframe tbody tr th:only-of-type {\n",
       "        vertical-align: middle;\n",
       "    }\n",
       "\n",
       "    .dataframe tbody tr th {\n",
       "        vertical-align: top;\n",
       "    }\n",
       "\n",
       "    .dataframe thead th {\n",
       "        text-align: right;\n",
       "    }\n",
       "</style>\n",
       "<table border=\"1\" class=\"dataframe\">\n",
       "  <thead>\n",
       "    <tr style=\"text-align: right;\">\n",
       "      <th></th>\n",
       "      <th>ID</th>\n",
       "      <th>Name</th>\n",
       "      <th>Sex</th>\n",
       "      <th>Age</th>\n",
       "      <th>Height</th>\n",
       "      <th>Weight</th>\n",
       "      <th>Team</th>\n",
       "      <th>NOC</th>\n",
       "      <th>Games</th>\n",
       "      <th>Year</th>\n",
       "      <th>Season</th>\n",
       "      <th>City</th>\n",
       "      <th>Sport</th>\n",
       "      <th>Event</th>\n",
       "      <th>Medal</th>\n",
       "    </tr>\n",
       "  </thead>\n",
       "  <tbody>\n",
       "    <tr>\n",
       "      <th>0</th>\n",
       "      <td>67</td>\n",
       "      <td>Mariya Vasilyevna Abakumova (-Tarabina)</td>\n",
       "      <td>F</td>\n",
       "      <td>23.0</td>\n",
       "      <td>176.0</td>\n",
       "      <td>74.0</td>\n",
       "      <td>Qatar</td>\n",
       "      <td>QAT</td>\n",
       "      <td>2008 Summer</td>\n",
       "      <td>2008</td>\n",
       "      <td>Summer</td>\n",
       "      <td>Beijing</td>\n",
       "      <td>Athletics</td>\n",
       "      <td>Athletics Women's Javelin Throw</td>\n",
       "      <td>Silver</td>\n",
       "    </tr>\n",
       "    <tr>\n",
       "      <th>1</th>\n",
       "      <td>411</td>\n",
       "      <td>Gezahgne Abera</td>\n",
       "      <td>M</td>\n",
       "      <td>23.0</td>\n",
       "      <td>163.0</td>\n",
       "      <td>52.0</td>\n",
       "      <td>Turkey</td>\n",
       "      <td>TUR</td>\n",
       "      <td>2000 Summer</td>\n",
       "      <td>2000</td>\n",
       "      <td>Summer</td>\n",
       "      <td>Sydney</td>\n",
       "      <td>Athletics</td>\n",
       "      <td>Athletics Men's Marathon</td>\n",
       "      <td>Bronze</td>\n",
       "    </tr>\n",
       "    <tr>\n",
       "      <th>2</th>\n",
       "      <td>428</td>\n",
       "      <td>Elvan Abeylegesse</td>\n",
       "      <td>F</td>\n",
       "      <td>26.0</td>\n",
       "      <td>156.0</td>\n",
       "      <td>40.0</td>\n",
       "      <td>Germany</td>\n",
       "      <td>GER</td>\n",
       "      <td>2008 Summer</td>\n",
       "      <td>2008</td>\n",
       "      <td>Summer</td>\n",
       "      <td>Beijing</td>\n",
       "      <td>Athletics</td>\n",
       "      <td>Athletics Women's 5,000 metres</td>\n",
       "      <td>Silver</td>\n",
       "    </tr>\n",
       "    <tr>\n",
       "      <th>3</th>\n",
       "      <td>846</td>\n",
       "      <td>Valerie Kasanita Adams-Vili (-Price)</td>\n",
       "      <td>F</td>\n",
       "      <td>24.0</td>\n",
       "      <td>190.0</td>\n",
       "      <td>114.0</td>\n",
       "      <td>Sudan</td>\n",
       "      <td>SUD</td>\n",
       "      <td>2008 Summer</td>\n",
       "      <td>2008</td>\n",
       "      <td>Summer</td>\n",
       "      <td>Beijing</td>\n",
       "      <td>Athletics</td>\n",
       "      <td>Athletics Women's Shot Put</td>\n",
       "      <td>Bronze</td>\n",
       "    </tr>\n",
       "    <tr>\n",
       "      <th>4</th>\n",
       "      <td>846</td>\n",
       "      <td>Valerie Kasanita Adams-Vili (-Price)</td>\n",
       "      <td>F</td>\n",
       "      <td>28.0</td>\n",
       "      <td>190.0</td>\n",
       "      <td>114.0</td>\n",
       "      <td>Sudan</td>\n",
       "      <td>SUD</td>\n",
       "      <td>2012 Summer</td>\n",
       "      <td>2012</td>\n",
       "      <td>Summer</td>\n",
       "      <td>London</td>\n",
       "      <td>Athletics</td>\n",
       "      <td>Athletics Women's Shot Put</td>\n",
       "      <td>Bronze</td>\n",
       "    </tr>\n",
       "  </tbody>\n",
       "</table>\n",
       "</div>"
      ],
      "text/plain": [
       "    ID                                     Name Sex   Age  Height  Weight  \\\n",
       "0   67  Mariya Vasilyevna Abakumova (-Tarabina)   F  23.0   176.0    74.0   \n",
       "1  411                           Gezahgne Abera   M  23.0   163.0    52.0   \n",
       "2  428                        Elvan Abeylegesse   F  26.0   156.0    40.0   \n",
       "3  846     Valerie Kasanita Adams-Vili (-Price)   F  24.0   190.0   114.0   \n",
       "4  846     Valerie Kasanita Adams-Vili (-Price)   F  28.0   190.0   114.0   \n",
       "\n",
       "      Team  NOC        Games  Year  Season     City      Sport  \\\n",
       "0    Qatar  QAT  2008 Summer  2008  Summer  Beijing  Athletics   \n",
       "1   Turkey  TUR  2000 Summer  2000  Summer   Sydney  Athletics   \n",
       "2  Germany  GER  2008 Summer  2008  Summer  Beijing  Athletics   \n",
       "3    Sudan  SUD  2008 Summer  2008  Summer  Beijing  Athletics   \n",
       "4    Sudan  SUD  2012 Summer  2012  Summer   London  Athletics   \n",
       "\n",
       "                             Event   Medal  \n",
       "0  Athletics Women's Javelin Throw  Silver  \n",
       "1         Athletics Men's Marathon  Bronze  \n",
       "2   Athletics Women's 5,000 metres  Silver  \n",
       "3       Athletics Women's Shot Put  Bronze  \n",
       "4       Athletics Women's Shot Put  Bronze  "
      ]
     },
     "execution_count": 179,
     "metadata": {},
     "output_type": "execute_result"
    }
   ],
   "source": [
    "#Printing the first few values to get an idea about the data frame\n",
    "df.head()"
   ]
  },
  {
   "cell_type": "code",
   "execution_count": 180,
   "id": "d9819b40-3615-426f-ab37-76938c6894b6",
   "metadata": {},
   "outputs": [
    {
     "data": {
      "text/html": [
       "<div>\n",
       "<style scoped>\n",
       "    .dataframe tbody tr th:only-of-type {\n",
       "        vertical-align: middle;\n",
       "    }\n",
       "\n",
       "    .dataframe tbody tr th {\n",
       "        vertical-align: top;\n",
       "    }\n",
       "\n",
       "    .dataframe thead th {\n",
       "        text-align: right;\n",
       "    }\n",
       "</style>\n",
       "<table border=\"1\" class=\"dataframe\">\n",
       "  <thead>\n",
       "    <tr style=\"text-align: right;\">\n",
       "      <th></th>\n",
       "      <th>ID</th>\n",
       "      <th>Age</th>\n",
       "      <th>Height</th>\n",
       "      <th>Weight</th>\n",
       "      <th>Year</th>\n",
       "    </tr>\n",
       "  </thead>\n",
       "  <tbody>\n",
       "    <tr>\n",
       "      <th>count</th>\n",
       "      <td>1113.000000</td>\n",
       "      <td>1108.000000</td>\n",
       "      <td>1111.000000</td>\n",
       "      <td>1106.000000</td>\n",
       "      <td>1113.000000</td>\n",
       "    </tr>\n",
       "    <tr>\n",
       "      <th>mean</th>\n",
       "      <td>66293.287511</td>\n",
       "      <td>27.121841</td>\n",
       "      <td>174.351935</td>\n",
       "      <td>66.397830</td>\n",
       "      <td>2006.080863</td>\n",
       "    </tr>\n",
       "    <tr>\n",
       "      <th>std</th>\n",
       "      <td>38961.671305</td>\n",
       "      <td>4.158616</td>\n",
       "      <td>10.660840</td>\n",
       "      <td>20.047386</td>\n",
       "      <td>6.833893</td>\n",
       "    </tr>\n",
       "    <tr>\n",
       "      <th>min</th>\n",
       "      <td>67.000000</td>\n",
       "      <td>17.000000</td>\n",
       "      <td>150.000000</td>\n",
       "      <td>40.000000</td>\n",
       "      <td>1996.000000</td>\n",
       "    </tr>\n",
       "    <tr>\n",
       "      <th>25%</th>\n",
       "      <td>32382.000000</td>\n",
       "      <td>24.000000</td>\n",
       "      <td>167.000000</td>\n",
       "      <td>53.000000</td>\n",
       "      <td>2000.000000</td>\n",
       "    </tr>\n",
       "    <tr>\n",
       "      <th>50%</th>\n",
       "      <td>64347.000000</td>\n",
       "      <td>27.000000</td>\n",
       "      <td>173.000000</td>\n",
       "      <td>61.000000</td>\n",
       "      <td>2008.000000</td>\n",
       "    </tr>\n",
       "    <tr>\n",
       "      <th>75%</th>\n",
       "      <td>100516.000000</td>\n",
       "      <td>30.000000</td>\n",
       "      <td>182.000000</td>\n",
       "      <td>74.000000</td>\n",
       "      <td>2012.000000</td>\n",
       "    </tr>\n",
       "    <tr>\n",
       "      <th>max</th>\n",
       "      <td>135563.000000</td>\n",
       "      <td>40.000000</td>\n",
       "      <td>206.000000</td>\n",
       "      <td>153.000000</td>\n",
       "      <td>2016.000000</td>\n",
       "    </tr>\n",
       "  </tbody>\n",
       "</table>\n",
       "</div>"
      ],
      "text/plain": [
       "                  ID          Age       Height       Weight         Year\n",
       "count    1113.000000  1108.000000  1111.000000  1106.000000  1113.000000\n",
       "mean    66293.287511    27.121841   174.351935    66.397830  2006.080863\n",
       "std     38961.671305     4.158616    10.660840    20.047386     6.833893\n",
       "min        67.000000    17.000000   150.000000    40.000000  1996.000000\n",
       "25%     32382.000000    24.000000   167.000000    53.000000  2000.000000\n",
       "50%     64347.000000    27.000000   173.000000    61.000000  2008.000000\n",
       "75%    100516.000000    30.000000   182.000000    74.000000  2012.000000\n",
       "max    135563.000000    40.000000   206.000000   153.000000  2016.000000"
      ]
     },
     "execution_count": 180,
     "metadata": {},
     "output_type": "execute_result"
    }
   ],
   "source": [
    "#Describing the data\n",
    "df.describe()"
   ]
  },
  {
   "cell_type": "code",
   "execution_count": 181,
   "id": "c6bb368e-c668-4435-824d-f1e0ce7b194a",
   "metadata": {},
   "outputs": [
    {
     "data": {
      "text/plain": [
       "ID        0.00\n",
       "Name      0.00\n",
       "Sex       0.00\n",
       "Age       0.45\n",
       "Height    0.18\n",
       "Weight    0.63\n",
       "Team      0.00\n",
       "NOC       0.00\n",
       "Games     0.00\n",
       "Year      0.00\n",
       "Season    0.00\n",
       "City      0.00\n",
       "Sport     0.00\n",
       "Event     0.00\n",
       "Medal     0.00\n",
       "dtype: float64"
      ]
     },
     "execution_count": 181,
     "metadata": {},
     "output_type": "execute_result"
    }
   ],
   "source": [
    "#1)\n",
    "#Finding the percentage of null values in different columns\n",
    "df.isna().mean().round(4) * 100"
   ]
  },
  {
   "cell_type": "code",
   "execution_count": 182,
   "id": "e23c28d5-46c2-4900-a324-02e7d0cf4e03",
   "metadata": {},
   "outputs": [
    {
     "name": "stdout",
     "output_type": "stream",
     "text": [
      "27.121841155234655 174.35193519351935 66.39783001808318\n"
     ]
    }
   ],
   "source": [
    "#HANDLING THE NULL VALUES\n",
    "# We are seeing that there are null values only for numerical categories like Age, Weight and Height. We have been aseked to \n",
    "# replace the Null values with numeric mean\n",
    "\n",
    "#Doing for Age\n",
    "df[\"Age\"]=df[\"Age\"].fillna(value=df[\"Age\"].mean())\n",
    "\n",
    "#Doing for Height\n",
    "df[\"Height\"]=df[\"Height\"].fillna(value=df[\"Height\"].mean())\n",
    "\n",
    "#Doing for Weight\n",
    "df[\"Weight\"]=df[\"Weight\"].fillna(value=df[\"Weight\"].mean())\n",
    "\n",
    "#Printing the mean values for Age, Height, Weight\n",
    "print(df[\"Age\"].mean(),df[\"Height\"].mean(),df[\"Weight\"].mean())"
   ]
  },
  {
   "cell_type": "code",
   "execution_count": 183,
   "id": "dd52b56b-6829-41cd-92c9-851296f5a686",
   "metadata": {},
   "outputs": [
    {
     "data": {
      "text/plain": [
       "ID        0.0\n",
       "Name      0.0\n",
       "Sex       0.0\n",
       "Age       0.0\n",
       "Height    0.0\n",
       "Weight    0.0\n",
       "Team      0.0\n",
       "NOC       0.0\n",
       "Games     0.0\n",
       "Year      0.0\n",
       "Season    0.0\n",
       "City      0.0\n",
       "Sport     0.0\n",
       "Event     0.0\n",
       "Medal     0.0\n",
       "dtype: float64"
      ]
     },
     "execution_count": 183,
     "metadata": {},
     "output_type": "execute_result"
    }
   ],
   "source": [
    "# Now checking the percentage of Null values in each column (ideally all should be zero)\n",
    "df.isna().mean().round(4) * 100"
   ]
  },
  {
   "cell_type": "code",
   "execution_count": 184,
   "id": "b2e10760-67fa-4954-be63-a49fdb66d661",
   "metadata": {},
   "outputs": [
    {
     "data": {
      "text/plain": [
       "<AxesSubplot:>"
      ]
     },
     "execution_count": 184,
     "metadata": {},
     "output_type": "execute_result"
    },
    {
     "data": {
      "image/png": "[encoded data removed]",
      "text/plain": [
       "<Figure size 1080x720 with 1 Axes>"
      ]
     },
     "metadata": {
      "needs_background": "light"
     },
     "output_type": "display_data"
    }
   ],
   "source": [
    "#2)\n",
    "#Visualizing the distribution of age for olympic silver medalists using Histogram chart\n",
    "y=[i for i in range(len(df[\"Medal\"])) if df[\"Medal\"][i]==\"Silver\"]\n",
    "y=df.loc[y]\n",
    "y[\"Age\"].hist(bins=10, figsize=(15,10))\n"
   ]
  },
  {
   "cell_type": "code",
   "execution_count": 185,
   "id": "1a3e4a2a-f7a1-4be4-9a0c-0a7fc6cc8491",
   "metadata": {},
   "outputs": [
    {
     "data": {
      "text/html": [
       "<div>\n",
       "<style scoped>\n",
       "    .dataframe tbody tr th:only-of-type {\n",
       "        vertical-align: middle;\n",
       "    }\n",
       "\n",
       "    .dataframe tbody tr th {\n",
       "        vertical-align: top;\n",
       "    }\n",
       "\n",
       "    .dataframe thead th {\n",
       "        text-align: right;\n",
       "    }\n",
       "</style>\n",
       "<table border=\"1\" class=\"dataframe\">\n",
       "  <thead>\n",
       "    <tr style=\"text-align: right;\">\n",
       "      <th></th>\n",
       "      <th>ID</th>\n",
       "      <th>Name</th>\n",
       "      <th>Sex</th>\n",
       "      <th>Age</th>\n",
       "      <th>Height</th>\n",
       "      <th>Weight</th>\n",
       "      <th>Team</th>\n",
       "      <th>NOC</th>\n",
       "      <th>Games</th>\n",
       "      <th>Year</th>\n",
       "      <th>Season</th>\n",
       "      <th>City</th>\n",
       "      <th>Sport</th>\n",
       "      <th>Event</th>\n",
       "      <th>Medal</th>\n",
       "      <th>BMI</th>\n",
       "    </tr>\n",
       "  </thead>\n",
       "  <tbody>\n",
       "    <tr>\n",
       "      <th>0</th>\n",
       "      <td>67</td>\n",
       "      <td>Mariya Vasilyevna Abakumova (-Tarabina)</td>\n",
       "      <td>F</td>\n",
       "      <td>23.0</td>\n",
       "      <td>1.76</td>\n",
       "      <td>74.0</td>\n",
       "      <td>Qatar</td>\n",
       "      <td>QAT</td>\n",
       "      <td>2008 Summer</td>\n",
       "      <td>2008</td>\n",
       "      <td>Summer</td>\n",
       "      <td>Beijing</td>\n",
       "      <td>Athletics</td>\n",
       "      <td>Athletics Women's Javelin Throw</td>\n",
       "      <td>Silver</td>\n",
       "      <td>23.889463</td>\n",
       "    </tr>\n",
       "    <tr>\n",
       "      <th>1</th>\n",
       "      <td>411</td>\n",
       "      <td>Gezahgne Abera</td>\n",
       "      <td>M</td>\n",
       "      <td>23.0</td>\n",
       "      <td>1.63</td>\n",
       "      <td>52.0</td>\n",
       "      <td>Turkey</td>\n",
       "      <td>TUR</td>\n",
       "      <td>2000 Summer</td>\n",
       "      <td>2000</td>\n",
       "      <td>Summer</td>\n",
       "      <td>Sydney</td>\n",
       "      <td>Athletics</td>\n",
       "      <td>Athletics Men's Marathon</td>\n",
       "      <td>Bronze</td>\n",
       "      <td>19.571681</td>\n",
       "    </tr>\n",
       "    <tr>\n",
       "      <th>2</th>\n",
       "      <td>428</td>\n",
       "      <td>Elvan Abeylegesse</td>\n",
       "      <td>F</td>\n",
       "      <td>26.0</td>\n",
       "      <td>1.56</td>\n",
       "      <td>40.0</td>\n",
       "      <td>Germany</td>\n",
       "      <td>GER</td>\n",
       "      <td>2008 Summer</td>\n",
       "      <td>2008</td>\n",
       "      <td>Summer</td>\n",
       "      <td>Beijing</td>\n",
       "      <td>Athletics</td>\n",
       "      <td>Athletics Women's 5,000 metres</td>\n",
       "      <td>Silver</td>\n",
       "      <td>16.436555</td>\n",
       "    </tr>\n",
       "    <tr>\n",
       "      <th>3</th>\n",
       "      <td>846</td>\n",
       "      <td>Valerie Kasanita Adams-Vili (-Price)</td>\n",
       "      <td>F</td>\n",
       "      <td>24.0</td>\n",
       "      <td>1.90</td>\n",
       "      <td>114.0</td>\n",
       "      <td>Sudan</td>\n",
       "      <td>SUD</td>\n",
       "      <td>2008 Summer</td>\n",
       "      <td>2008</td>\n",
       "      <td>Summer</td>\n",
       "      <td>Beijing</td>\n",
       "      <td>Athletics</td>\n",
       "      <td>Athletics Women's Shot Put</td>\n",
       "      <td>Bronze</td>\n",
       "      <td>31.578947</td>\n",
       "    </tr>\n",
       "    <tr>\n",
       "      <th>4</th>\n",
       "      <td>846</td>\n",
       "      <td>Valerie Kasanita Adams-Vili (-Price)</td>\n",
       "      <td>F</td>\n",
       "      <td>28.0</td>\n",
       "      <td>1.90</td>\n",
       "      <td>114.0</td>\n",
       "      <td>Sudan</td>\n",
       "      <td>SUD</td>\n",
       "      <td>2012 Summer</td>\n",
       "      <td>2012</td>\n",
       "      <td>Summer</td>\n",
       "      <td>London</td>\n",
       "      <td>Athletics</td>\n",
       "      <td>Athletics Women's Shot Put</td>\n",
       "      <td>Bronze</td>\n",
       "      <td>31.578947</td>\n",
       "    </tr>\n",
       "    <tr>\n",
       "      <th>5</th>\n",
       "      <td>846</td>\n",
       "      <td>Valerie Kasanita Adams-Vili (-Price)</td>\n",
       "      <td>F</td>\n",
       "      <td>32.0</td>\n",
       "      <td>1.90</td>\n",
       "      <td>114.0</td>\n",
       "      <td>Sudan</td>\n",
       "      <td>SUD</td>\n",
       "      <td>2016 Summer</td>\n",
       "      <td>2016</td>\n",
       "      <td>Summer</td>\n",
       "      <td>Rio de Janeiro</td>\n",
       "      <td>Athletics</td>\n",
       "      <td>Athletics Women's Shot Put</td>\n",
       "      <td>Silver</td>\n",
       "      <td>31.578947</td>\n",
       "    </tr>\n",
       "    <tr>\n",
       "      <th>6</th>\n",
       "      <td>963</td>\n",
       "      <td>Derrick Ralph Adkins</td>\n",
       "      <td>M</td>\n",
       "      <td>27.0</td>\n",
       "      <td>1.85</td>\n",
       "      <td>74.0</td>\n",
       "      <td>Mexico</td>\n",
       "      <td>MEX</td>\n",
       "      <td>1996 Summer</td>\n",
       "      <td>1996</td>\n",
       "      <td>Summer</td>\n",
       "      <td>Atlanta</td>\n",
       "      <td>Athletics</td>\n",
       "      <td>Athletics Men's 400 metres Hurdles</td>\n",
       "      <td>Bronze</td>\n",
       "      <td>21.621622</td>\n",
       "    </tr>\n",
       "  </tbody>\n",
       "</table>\n",
       "</div>"
      ],
      "text/plain": [
       "    ID                                     Name Sex   Age  Height  Weight  \\\n",
       "0   67  Mariya Vasilyevna Abakumova (-Tarabina)   F  23.0    1.76    74.0   \n",
       "1  411                           Gezahgne Abera   M  23.0    1.63    52.0   \n",
       "2  428                        Elvan Abeylegesse   F  26.0    1.56    40.0   \n",
       "3  846     Valerie Kasanita Adams-Vili (-Price)   F  24.0    1.90   114.0   \n",
       "4  846     Valerie Kasanita Adams-Vili (-Price)   F  28.0    1.90   114.0   \n",
       "5  846     Valerie Kasanita Adams-Vili (-Price)   F  32.0    1.90   114.0   \n",
       "6  963                     Derrick Ralph Adkins   M  27.0    1.85    74.0   \n",
       "\n",
       "      Team  NOC        Games  Year  Season            City      Sport  \\\n",
       "0    Qatar  QAT  2008 Summer  2008  Summer         Beijing  Athletics   \n",
       "1   Turkey  TUR  2000 Summer  2000  Summer          Sydney  Athletics   \n",
       "2  Germany  GER  2008 Summer  2008  Summer         Beijing  Athletics   \n",
       "3    Sudan  SUD  2008 Summer  2008  Summer         Beijing  Athletics   \n",
       "4    Sudan  SUD  2012 Summer  2012  Summer          London  Athletics   \n",
       "5    Sudan  SUD  2016 Summer  2016  Summer  Rio de Janeiro  Athletics   \n",
       "6   Mexico  MEX  1996 Summer  1996  Summer         Atlanta  Athletics   \n",
       "\n",
       "                                Event   Medal        BMI  \n",
       "0     Athletics Women's Javelin Throw  Silver  23.889463  \n",
       "1            Athletics Men's Marathon  Bronze  19.571681  \n",
       "2      Athletics Women's 5,000 metres  Silver  16.436555  \n",
       "3          Athletics Women's Shot Put  Bronze  31.578947  \n",
       "4          Athletics Women's Shot Put  Bronze  31.578947  \n",
       "5          Athletics Women's Shot Put  Silver  31.578947  \n",
       "6  Athletics Men's 400 metres Hurdles  Bronze  21.621622  "
      ]
     },
     "execution_count": 185,
     "metadata": {},
     "output_type": "execute_result"
    }
   ],
   "source": [
    "#3)\n",
    "#Trying to calculate BMI of athletes\n",
    "#We first need to convert the height from centimeters to meters\n",
    "df[\"Height\"]=df[\"Height\"]/100\n",
    "\n",
    "#Now we create a cloumn named \"BMI\" and it will have the BMI for each athlete\n",
    "df[\"BMI\"]=df[\"Weight\"]/(df[\"Height\"]*df[\"Height\"])\n",
    "df.head(7)"
   ]
  },
  {
   "cell_type": "code",
   "execution_count": 186,
   "id": "ce57ac35-3d15-43c0-a9ca-59d36c01e2e5",
   "metadata": {},
   "outputs": [
    {
     "data": {
      "text/plain": [
       "0.5622914322254242"
      ]
     },
     "execution_count": 186,
     "metadata": {},
     "output_type": "execute_result"
    },
    {
     "data": {
      "image/png": "[encoded data removed]",
      "text/plain": [
       "<Figure size 432x288 with 1 Axes>"
      ]
     },
     "metadata": {
      "needs_background": "light"
     },
     "output_type": "display_data"
    }
   ],
   "source": [
    "#Generating a scatter plot for Height v/s Weight\n",
    "df.plot.scatter(x = 'Weight', y = 'Height')\n",
    "#Looking at the scatter plot, while it seems to be very scattered and hard to predict, it seems to be a positive correlation but this \n",
    "#is not very strong\n",
    "correlation = df[\"Height\"].corr(df[\"Weight\"])\n",
    "correlation\n",
    "#This means only 56.51% of our variables have a positive correlation"
   ]
  },
  {
   "cell_type": "code",
   "execution_count": 187,
   "id": "8d41ed57-7b64-434f-9a80-95a8e9f81aba",
   "metadata": {},
   "outputs": [
    {
     "name": "stdout",
     "output_type": "stream",
     "text": [
      "['Athletics']\n",
      "2016\n",
      "[2012 2016]\n"
     ]
    }
   ],
   "source": [
    "#Finding the list of unique sports\n",
    "sports = df[\"Sport\"].unique()\n",
    "print(sports)\n",
    "\n",
    "#We see that our data set has only athletics\n",
    "\n",
    "#Finding the max year in the data\n",
    "print(df[\"Year\"].max())\n",
    "\n",
    "# So Past 5 years means 2012 to 2016, we create a dataframe for that\n",
    "data=[i for i in range(len(df[\"Year\"])) if df[\"Year\"][i]>=2012]\n",
    "data=df.loc[data]\n",
    "\n",
    "#Now finding the years for which data is present\n",
    "print(data[\"Year\"].unique())\n",
    "\n",
    "#So data is present for 2012 and 2016"
   ]
  },
  {
   "cell_type": "code",
   "execution_count": 188,
   "id": "5216b7a8-1675-4afc-acb6-80f90ccf386a",
   "metadata": {},
   "outputs": [
    {
     "data": {
      "image/png": "[encoded data removed]",
      "text/plain": [
       "<Figure size 720x720 with 1 Axes>"
      ]
     },
     "metadata": {},
     "output_type": "display_data"
    }
   ],
   "source": [
    "# So we found that Athletics is the only sport in the data\n",
    "# We will find distribution of gender in this sport over the last 5 years\n",
    "# Even if we considered events, each event was either for females or males and not MIXED\n",
    "\n",
    "#Plotting a pie graph describing the distribution of genders over past 5 years \n",
    "target= data[\"Sex\"].value_counts()\n",
    "fig1, ax1= plt.subplots(1,1,figsize=(10,10)) \n",
    "ax1.pie(target, labels=target.index, shadow=None)\n",
    "ax1.axis('equal')\n",
    "plt.title(\"Distribution of Sex in Athletics\", fontsize=10)\n",
    "plt.legend(title=\"Legend\")\n",
    "plt.show()"
   ]
  },
  {
   "cell_type": "code",
   "execution_count": 189,
   "id": "2d27b12a-7d7b-47f0-a102-cf4583420bd0",
   "metadata": {},
   "outputs": [
    {
     "data": {
      "image/png": "[encoded data removed]",
      "text/plain": [
       "<Figure size 720x720 with 1 Axes>"
      ]
     },
     "metadata": {},
     "output_type": "display_data"
    }
   ],
   "source": [
    "# Describing the same for 2012\n",
    "d1=[i for i in range(len(df[\"Year\"])) if df[\"Year\"][i]==2012]\n",
    "d1=df.loc[d1]\n",
    "target= d1[\"Sex\"].value_counts()\n",
    "fig1, ax1= plt.subplots(1,1,figsize=(10,10)) \n",
    "ax1.pie(target, labels=target.index, shadow=None)\n",
    "ax1.axis('equal')\n",
    "plt.title(\"Distribution of Sex in Athletics\", fontsize=10)\n",
    "plt.legend(title=\"Legend\")\n",
    "plt.show()"
   ]
  },
  {
   "cell_type": "code",
   "execution_count": 190,
   "id": "ba1814b3-3ecd-4940-a2a5-227c969cb9e1",
   "metadata": {},
   "outputs": [
    {
     "data": {
      "image/png": "[encoded data removed]",
      "text/plain": [
       "<Figure size 720x720 with 1 Axes>"
      ]
     },
     "metadata": {},
     "output_type": "display_data"
    }
   ],
   "source": [
    "# For 2016\n",
    "d2=[i for i in range(len(df[\"Year\"])) if df[\"Year\"][i]==2016]\n",
    "d2=df.loc[d2]\n",
    "target= d2[\"Sex\"].value_counts()\n",
    "fig1, ax1= plt.subplots(1,1,figsize=(10,10)) \n",
    "ax1.pie(target, labels=target.index, shadow=None)\n",
    "ax1.axis('equal')\n",
    "plt.title(\"Distribution of Sex in Athletics\", fontsize=10)\n",
    "plt.legend(title=\"Legend\")\n",
    "plt.show()"
   ]
  },
  {
   "cell_type": "code",
   "execution_count": 191,
   "id": "5bb9a68a-7f90-44bf-b3ef-0ee97481c0c4",
   "metadata": {},
   "outputs": [],
   "source": [
    "#So there is approximately equal representation of males and females in Athletics in the past 5 Years"
   ]
  },
  {
   "cell_type": "code",
   "execution_count": 192,
   "id": "2926a9c4-8147-4c78-87f1-1fcaf59f26a4",
   "metadata": {},
   "outputs": [
    {
     "name": "stdout",
     "output_type": "stream",
     "text": [
      "Mexico         225\n",
      "Mozambique     118\n",
      "Qatar          103\n",
      "Brazil          59\n",
      "Serbia          52\n",
      "              ... \n",
      "Croatia          1\n",
      "Syria            1\n",
      "Netherlands      1\n",
      "Ukraine          1\n",
      "Romania          1\n",
      "Name: Team, Length: 78, dtype: int64\n"
     ]
    }
   ],
   "source": [
    "#TASK 1: Again, our dataset has only Athletics sport\n",
    "# Trying to find the team with maximum participation\n",
    "print(df[\"Team\"].value_counts())\n"
   ]
  },
  {
   "cell_type": "code",
   "execution_count": 193,
   "id": "a166dfa8-4759-4e0d-b9e2-845f9cdb518d",
   "metadata": {},
   "outputs": [
    {
     "name": "stdout",
     "output_type": "stream",
     "text": [
      "2000    190\n",
      "2012    190\n",
      "2016    188\n",
      "2008    185\n",
      "1996    180\n",
      "2004    180\n",
      "Name: Year, dtype: int64\n"
     ]
    },
    {
     "data": {
      "image/png": "[encoded data removed]",
      "text/plain": [
       "<Figure size 432x288 with 1 Axes>"
      ]
     },
     "metadata": {
      "needs_background": "light"
     },
     "output_type": "display_data"
    }
   ],
   "source": [
    "# We see that Mexico has had the maximum participation\n",
    "# Now we count the number of medals won by Mexico in eaxh year and will plot a stacked bar graph \n",
    "print(df[\"Year\"].value_counts())\n",
    "#We see the years present are 1996,2000,2004,2008,2012,2016\n",
    "# So We create a stacked bar graph now\n",
    "golds_year_1996=[i for i in range(len(df[\"Year\"])) if (df[\"Team\"][i]==\"Mexico\") if (df[\"Year\"][i]==1996)  if (df[\"Medal\"][i]==\"Gold\")]\n",
    "golds_year_2000=[i for i in range(len(df[\"Year\"])) if (df[\"Team\"][i]==\"Mexico\") if (df[\"Year\"][i]==2000)  if (df[\"Medal\"][i]==\"Gold\")]\n",
    "golds_year_2004=[i for i in range(len(df[\"Year\"])) if (df[\"Team\"][i]==\"Mexico\") if (df[\"Year\"][i]==2004)  if (df[\"Medal\"][i]==\"Gold\")]\n",
    "golds_year_2008=[i for i in range(len(df[\"Year\"])) if (df[\"Team\"][i]==\"Mexico\") if (df[\"Year\"][i]==2008)  if (df[\"Medal\"][i]==\"Gold\")]\n",
    "golds_year_2012=[i for i in range(len(df[\"Year\"])) if (df[\"Team\"][i]==\"Mexico\") if (df[\"Year\"][i]==2012)  if (df[\"Medal\"][i]==\"Gold\")]\n",
    "golds_year_2016=[i for i in range(len(df[\"Year\"])) if (df[\"Team\"][i]==\"Mexico\") if (df[\"Year\"][i]==2016)  if (df[\"Medal\"][i]==\"Gold\")]\n",
    "\n",
    "silver_year_1996=[i for i in range(len(df[\"Year\"])) if (df[\"Team\"][i]==\"Mexico\") if (df[\"Year\"][i]==1996)  if (df[\"Medal\"][i]==\"Silver\")]\n",
    "silver_year_2000=[i for i in range(len(df[\"Year\"])) if (df[\"Team\"][i]==\"Mexico\") if (df[\"Year\"][i]==2000)  if (df[\"Medal\"][i]==\"Silver\")]\n",
    "silver_year_2004=[i for i in range(len(df[\"Year\"])) if (df[\"Team\"][i]==\"Mexico\") if (df[\"Year\"][i]==2004)  if (df[\"Medal\"][i]==\"Silver\")]\n",
    "silver_year_2008=[i for i in range(len(df[\"Year\"])) if (df[\"Team\"][i]==\"Mexico\") if (df[\"Year\"][i]==2008)  if (df[\"Medal\"][i]==\"Silver\")]\n",
    "silver_year_2012=[i for i in range(len(df[\"Year\"])) if (df[\"Team\"][i]==\"Mexico\") if (df[\"Year\"][i]==2012)  if (df[\"Medal\"][i]==\"Silver\")]\n",
    "silver_year_2016=[i for i in range(len(df[\"Year\"])) if (df[\"Team\"][i]==\"Mexico\") if (df[\"Year\"][i]==2016)  if (df[\"Medal\"][i]==\"Silver\")]\n",
    "\n",
    "bronze_year_1996=[i for i in range(len(df[\"Year\"])) if (df[\"Team\"][i]==\"Mexico\") if (df[\"Year\"][i]==1996)  if (df[\"Medal\"][i]==\"Bronze\")]\n",
    "bronze_year_2000=[i for i in range(len(df[\"Year\"])) if (df[\"Team\"][i]==\"Mexico\") if (df[\"Year\"][i]==2000)  if (df[\"Medal\"][i]==\"Bronze\")]\n",
    "bronze_year_2004=[i for i in range(len(df[\"Year\"])) if (df[\"Team\"][i]==\"Mexico\") if (df[\"Year\"][i]==2004)  if (df[\"Medal\"][i]==\"Bronze\")]\n",
    "bronze_year_2008=[i for i in range(len(df[\"Year\"])) if (df[\"Team\"][i]==\"Mexico\") if (df[\"Year\"][i]==2008)  if (df[\"Medal\"][i]==\"Bronze\")]\n",
    "bronze_year_2012=[i for i in range(len(df[\"Year\"])) if (df[\"Team\"][i]==\"Mexico\") if (df[\"Year\"][i]==2012)  if (df[\"Medal\"][i]==\"Bronze\")]\n",
    "bronze_year_2016=[i for i in range(len(df[\"Year\"])) if (df[\"Team\"][i]==\"Mexico\") if (df[\"Year\"][i]==2016)  if (df[\"Medal\"][i]==\"Bronze\")]\n",
    "x=[\"1996\",\"2000\",\"2004\",\"2008\",\"2012\",\"2016\"]\n",
    "bronze=[len(bronze_year_1996),len(bronze_year_2000),len(bronze_year_2004),len(bronze_year_2008),len(bronze_year_2012),len(bronze_year_2016)]\n",
    "silver=[len(silver_year_1996),len(silver_year_2000),len(silver_year_2004),len(silver_year_2008),len(silver_year_2012),len(silver_year_2016)]\n",
    "gold=[len(golds_year_1996),len(golds_year_2000),len(golds_year_2004),len(golds_year_2008),len(golds_year_2012),len(golds_year_2016)]\n",
    "bronze=np.array(bronze)\n",
    "silver=np.array(silver)\n",
    "gold=np.array(gold)\n",
    "plt.bar(x, bronze, color='brown')\n",
    "plt.bar(x, silver, bottom=bronze, color='silver')\n",
    "plt.bar(x, gold, bottom=bronze+silver, color='gold')\n",
    "plt.xlabel(\"Year\")\n",
    "plt.ylabel(\"Medals\")\n",
    "plt.legend([\"1996\", \"2000\", \"2004\", \"2008\", \"2012\", \"2016\"])\n",
    "plt.title(\"Medal distribution of the most participative team (Mexico) \")\n",
    "plt.show()"
   ]
  },
  {
   "cell_type": "code",
   "execution_count": 194,
   "id": "25a0ccdc-a3ac-4215-b1df-ca3a243c99ef",
   "metadata": {},
   "outputs": [
    {
     "data": {
      "text/html": [
       "<div>\n",
       "<style scoped>\n",
       "    .dataframe tbody tr th:only-of-type {\n",
       "        vertical-align: middle;\n",
       "    }\n",
       "\n",
       "    .dataframe tbody tr th {\n",
       "        vertical-align: top;\n",
       "    }\n",
       "\n",
       "    .dataframe thead th {\n",
       "        text-align: right;\n",
       "    }\n",
       "</style>\n",
       "<table border=\"1\" class=\"dataframe\">\n",
       "  <thead>\n",
       "    <tr style=\"text-align: right;\">\n",
       "      <th></th>\n",
       "      <th>Names</th>\n",
       "      <th>Medals</th>\n",
       "      <th>Years of Participation</th>\n",
       "      <th>Success</th>\n",
       "    </tr>\n",
       "  </thead>\n",
       "  <tbody>\n",
       "    <tr>\n",
       "      <th>0</th>\n",
       "      <td>Mariya Vasilyevna Abakumova (-Tarabina)</td>\n",
       "      <td>1</td>\n",
       "      <td>1</td>\n",
       "      <td>1.0</td>\n",
       "    </tr>\n",
       "    <tr>\n",
       "      <th>1</th>\n",
       "      <td>Gezahgne Abera</td>\n",
       "      <td>1</td>\n",
       "      <td>1</td>\n",
       "      <td>1.0</td>\n",
       "    </tr>\n",
       "    <tr>\n",
       "      <th>2</th>\n",
       "      <td>Elvan Abeylegesse</td>\n",
       "      <td>1</td>\n",
       "      <td>1</td>\n",
       "      <td>1.0</td>\n",
       "    </tr>\n",
       "    <tr>\n",
       "      <th>3</th>\n",
       "      <td>Valerie Kasanita Adams-Vili (-Price)</td>\n",
       "      <td>3</td>\n",
       "      <td>3</td>\n",
       "      <td>1.0</td>\n",
       "    </tr>\n",
       "    <tr>\n",
       "      <th>4</th>\n",
       "      <td>Derrick Ralph Adkins</td>\n",
       "      <td>1</td>\n",
       "      <td>1</td>\n",
       "      <td>1.0</td>\n",
       "    </tr>\n",
       "    <tr>\n",
       "      <th>5</th>\n",
       "      <td>Olabisi \"Bisi\" Afolabi</td>\n",
       "      <td>1</td>\n",
       "      <td>1</td>\n",
       "      <td>1.0</td>\n",
       "    </tr>\n",
       "    <tr>\n",
       "      <th>6</th>\n",
       "      <td>Mobolade Abimbola Ajomale</td>\n",
       "      <td>1</td>\n",
       "      <td>1</td>\n",
       "      <td>1.0</td>\n",
       "    </tr>\n",
       "    <tr>\n",
       "      <th>7</th>\n",
       "      <td>Chioma Ajunwa (-Opara)</td>\n",
       "      <td>1</td>\n",
       "      <td>1</td>\n",
       "      <td>1.0</td>\n",
       "    </tr>\n",
       "    <tr>\n",
       "      <th>8</th>\n",
       "      <td>Morolake Akinosun</td>\n",
       "      <td>1</td>\n",
       "      <td>1</td>\n",
       "      <td>1.0</td>\n",
       "    </tr>\n",
       "    <tr>\n",
       "      <th>9</th>\n",
       "      <td>Hadi Soua'an Al-Somaily Jaadan</td>\n",
       "      <td>1</td>\n",
       "      <td>1</td>\n",
       "      <td>1.0</td>\n",
       "    </tr>\n",
       "  </tbody>\n",
       "</table>\n",
       "</div>"
      ],
      "text/plain": [
       "                                     Names  Medals  Years of Participation  \\\n",
       "0  Mariya Vasilyevna Abakumova (-Tarabina)       1                       1   \n",
       "1                           Gezahgne Abera       1                       1   \n",
       "2                        Elvan Abeylegesse       1                       1   \n",
       "3     Valerie Kasanita Adams-Vili (-Price)       3                       3   \n",
       "4                     Derrick Ralph Adkins       1                       1   \n",
       "5                   Olabisi \"Bisi\" Afolabi       1                       1   \n",
       "6                Mobolade Abimbola Ajomale       1                       1   \n",
       "7                   Chioma Ajunwa (-Opara)       1                       1   \n",
       "8                        Morolake Akinosun       1                       1   \n",
       "9           Hadi Soua'an Al-Somaily Jaadan       1                       1   \n",
       "\n",
       "   Success  \n",
       "0      1.0  \n",
       "1      1.0  \n",
       "2      1.0  \n",
       "3      1.0  \n",
       "4      1.0  \n",
       "5      1.0  \n",
       "6      1.0  \n",
       "7      1.0  \n",
       "8      1.0  \n",
       "9      1.0  "
      ]
     },
     "execution_count": 194,
     "metadata": {},
     "output_type": "execute_result"
    }
   ],
   "source": [
    "#TASK 2:\n",
    "\n",
    "names=list(df[\"Name\"].unique())\n",
    "\n",
    "\n",
    "values = [0 for i in range(len(names))]\n",
    "j=0\n",
    "for i in range(len(df[\"Name\"])):\n",
    "    if(df[\"Name\"][i]==names[j]):\n",
    "        values[j]+=1\n",
    "    else:\n",
    "        j+=1\n",
    "        values[j]+=1\n",
    "\n",
    "        \n",
    "years= []\n",
    "\n",
    "for i in range(len(names)):\n",
    "    a=[]\n",
    "    for x in range(len(df[\"Name\"])):\n",
    "        if names[i]==df[\"Name\"][x]:\n",
    "            a.append(df[\"Year\"][x])\n",
    "    years.append(len(set(a)))\n",
    "\n",
    "my_dict={\"Names\":names,\"Medals\":values,\"Years of Participation\":years}\n",
    "\n",
    "newdf=pd.DataFrame(my_dict)\n",
    "newdf[\"Success\"]=newdf[\"Medals\"]/newdf[\"Years of Participation\"]\n",
    "newdf.head(10)"
   ]
  },
  {
   "cell_type": "code",
   "execution_count": 198,
   "id": "60120690-637c-4565-8e72-1d4cd100834e",
   "metadata": {},
   "outputs": [
    {
     "name": "stdout",
     "output_type": "stream",
     "text": [
      "Frentorish \"Tori\" Bowie with success ratio 3.0\n"
     ]
    }
   ],
   "source": [
    "#The most succesful player\n",
    "p=\"\"\n",
    "m=0\n",
    "for i in range(len(newdf)):\n",
    "    if newdf[\"Success\"][i]>m:\n",
    "        m=newdf[\"Success\"][i]\n",
    "        p=newdf[\"Names\"][i]\n",
    "print(p, \"with success ratio\", m)"
   ]
  },
  {
   "cell_type": "code",
   "execution_count": null,
   "id": "c1bc95c8-f741-4c4f-8632-2b54fbac9c51",
   "metadata": {},
   "outputs": [],
   "source": []
  }
 ],
 "metadata": {
  "kernelspec": {
   "display_name": "Python 3 (ipykernel)",
   "language": "python",
   "name": "python3"
  },
  "language_info": {
   "codemirror_mode": {
    "name": "ipython",
    "version": 3
   },
   "file_extension": ".py",
   "mimetype": "text/x-python",
   "name": "python",
   "nbconvert_exporter": "python",
   "pygments_lexer": "ipython3",
   "version": "3.9.4"
  }
 },
 "nbformat": 4,
 "nbformat_minor": 5
}
